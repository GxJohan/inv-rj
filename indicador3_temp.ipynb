{
 "cells": [
  {
   "cell_type": "markdown",
   "id": "initial_id",
   "metadata": {},
   "source": [
    "# Análisis Estadístico: Tasa de Decisiones Informadas (TDI)\n\n**Tesis de Ingeniería**  \n**Fecha:** Octubre 2025  \n**Indicador:** TDI (%) - Decisiones basadas en análisis previo\n\n## Objetivo\nEvaluar si la implementación del sistema aumentó significativamente la tasa de decisiones operativas basadas en análisis de datos.\n\n## Estructura del Análisis\n\n1. **Cálculo del Indicador TDI**: Porcentaje de decisiones informadas (preprueba vs postprueba)\n2. **Análisis Descriptivo**: Frecuencias, análisis por tipo de decisión y responsable\n3. **Visualizaciones**: Gráficos profesionales (barras, apiladas, comparativos)\n4. **Análisis Inferencial**: Prueba McNemar (datos binarios pareados), intervalos de confianza\n5. **Tamaño del Efecto**: h de Cohen para proporciones\n6. **Interpretación**: Conclusiones estadísticas y significancia práctica\n\n---"
   ]
  }
 ],
 "metadata": {
  "kernelspec": {
   "display_name": "Python 3",
   "language": "python",
   "name": "python3"
  },
  "language_info": {
   "name": "python",
   "version": "3.9.0"
  }
 },
 "nbformat": 4,
 "nbformat_minor": 5
}