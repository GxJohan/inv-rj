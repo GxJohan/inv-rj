{
 "cells": [
  {
   "cell_type": "markdown",
   "id": "initial_id",
   "metadata": {},
   "source": [
    "# Análisis Estadístico: Satisfacción de Responsables Operativos\n",
    "\n",
    "**Tesis de Ingeniería**  \n",
    "**Fecha:** Octubre 2025  \n",
    "**Indicador:** Nivel de Satisfacción (Escala Likert 1-5)\n",
    "\n",
    "## Objetivo\n",
    "Evaluar si la implementación del sistema aumentó significativamente la satisfacción de los responsables operativos.\n",
    "\n",
    "---"
   ]
  },
  {
   "cell_type": "code",
   "id": "setup",
   "metadata": {
    "ExecuteTime": {
     "end_time": "2025-10-23T05:31:07.116496Z",
     "start_time": "2025-10-23T05:31:07.114276Z"
    }
   },
   "source": [
    "# =============================================================================\n",
    "# CONFIGURACIÓN INICIAL\n",
    "# =============================================================================\n",
    "\n",
    "import pandas as pd\n",
    "import numpy as np\n",
    "import matplotlib.pyplot as plt\n",
    "import seaborn as sns\n",
    "from scipy.stats import wilcoxon\n",
    "import warnings\n",
    "import os\n",
    "from datetime import datetime\n",
    "\n",
    "warnings.filterwarnings('ignore')\n",
    "\n",
    "# Configuración de gráficos\n",
    "plt.style.use('seaborn-v0_8-whitegrid')\n",
    "sns.set_palette(\"Set2\")\n",
    "plt.rcParams['figure.figsize'] = (10, 6)\n",
    "plt.rcParams['font.size'] = 11\n",
    "plt.rcParams['savefig.dpi'] = 300\n",
    "\n",
    "# Crear carpeta de resultados\n",
    "os.makedirs('resultados_satisfaccion_simple', exist_ok=True)\n",
    "\n",
    "print(\"✓ Configuración completada\")"
   ],
   "outputs": [
    {
     "name": "stdout",
     "output_type": "stream",
     "text": [
      "✓ Configuración completada\n"
     ]
    }
   ],
   "execution_count": 1
  },
  {
   "cell_type": "code",
   "id": "load_data",
   "metadata": {
    "ExecuteTime": {
     "end_time": "2025-10-23T05:31:07.125517Z",
     "start_time": "2025-10-23T05:31:07.121029Z"
    }
   },
   "source": [
    "# =============================================================================\n",
    "# CARGA DE DATOS\n",
    "# =============================================================================\n",
    "\n",
    "df = pd.read_csv('data/indicador2-simple/satisfaccion_responsables.csv')\n",
    "\n",
    "print(\"=\"*70)\n",
    "print(\"DATOS CARGADOS\")\n",
    "print(\"=\"*70)\n",
    "print(df.to_string(index=False))\n",
    "print(\"=\"*70)\n",
    "print(f\"\\nn = {len(df)} responsables operativos (censo completo)\")\n",
    "print(\"Escala: 1-5 (Likert)\")\n",
    "print(\"Datos pareados: Mismas personas antes/después del sistema\")"
   ],
   "outputs": [
    {
     "name": "stdout",
     "output_type": "stream",
     "text": [
      "======================================================================\n",
      "DATOS CARGADOS\n",
      "======================================================================\n",
      "id_responsable                cargo  turno  promedio_preprueba  promedio_postprueba\n",
      "           R01   Jefe de Producción    NaN                2.67                 4.56\n",
      "           R02     Supervisor Corte Mañana                2.56                 4.17\n",
      "           R03   Supervisor Formado  Tarde                2.61                 3.89\n",
      "           R04   Supervisor Sellado  Noche                2.22                 3.44\n",
      "           R05    Jefe Turno Mañana Mañana                2.94                 4.44\n",
      "           R06     Jefe Turno Tarde  Tarde                2.56                 4.00\n",
      "           R07     Jefe Turno Noche  Noche                2.28                 3.72\n",
      "           R08 Ingeniero de Proceso    NaN                3.11                 4.78\n",
      "======================================================================\n",
      "\n",
      "n = 8 responsables operativos (censo completo)\n",
      "Escala: 1-5 (Likert)\n",
      "Datos pareados: Mismas personas antes/después del sistema\n"
     ]
    }
   ],
   "execution_count": 2
  },
  {
   "cell_type": "code",
   "id": "descriptive",
   "metadata": {
    "ExecuteTime": {
     "end_time": "2025-10-23T05:31:07.133891Z",
     "start_time": "2025-10-23T05:31:07.130373Z"
    }
   },
   "source": [
    "# =============================================================================\n",
    "# ESTADÍSTICOS DESCRIPTIVOS\n",
    "# =============================================================================\n",
    "\n",
    "# Extraer datos\n",
    "preprueba = df['promedio_preprueba'].values\n",
    "postprueba = df['promedio_postprueba'].values\n",
    "\n",
    "# Calcular estadísticos\n",
    "stats_data = {\n",
    "    'Estadístico': ['Media', 'Desv. Estándar', 'Mínimo', 'Máximo'],\n",
    "    'PREPRUEBA': [\n",
    "        f\"{np.mean(preprueba):.2f}\",\n",
    "        f\"{np.std(preprueba, ddof=1):.2f}\",\n",
    "        f\"{np.min(preprueba):.2f}\",\n",
    "        f\"{np.max(preprueba):.2f}\"\n",
    "    ],\n",
    "    'POSTPRUEBA': [\n",
    "        f\"{np.mean(postprueba):.2f}\",\n",
    "        f\"{np.std(postprueba, ddof=1):.2f}\",\n",
    "        f\"{np.min(postprueba):.2f}\",\n",
    "        f\"{np.max(postprueba):.2f}\"\n",
    "    ]\n",
    "}\n",
    "\n",
    "df_stats = pd.DataFrame(stats_data)\n",
    "\n",
    "# Calcular mejora\n",
    "mejora_absoluta = np.mean(postprueba) - np.mean(preprueba)\n",
    "mejora_porcentual = (mejora_absoluta / np.mean(preprueba)) * 100\n",
    "\n",
    "print(\"\\n\" + \"=\"*70)\n",
    "print(\"ESTADÍSTICOS DESCRIPTIVOS\")\n",
    "print(\"=\"*70)\n",
    "print(df_stats.to_string(index=False))\n",
    "print(\"\\n\" + \"-\"*70)\n",
    "print(\"MEJORA OBSERVADA\")\n",
    "print(\"-\"*70)\n",
    "print(f\"Promedio PREPRUEBA:     {np.mean(preprueba):.2f} / 5.00\")\n",
    "print(f\"Promedio POSTPRUEBA:    {np.mean(postprueba):.2f} / 5.00\")\n",
    "print(f\"Mejora absoluta:        {mejora_absoluta:+.2f} puntos\")\n",
    "print(f\"Mejora porcentual:      {mejora_porcentual:+.2f}%\")\n",
    "print(\"=\"*70)"
   ],
   "outputs": [
    {
     "name": "stdout",
     "output_type": "stream",
     "text": [
      "\n",
      "======================================================================\n",
      "ESTADÍSTICOS DESCRIPTIVOS\n",
      "======================================================================\n",
      "   Estadístico PREPRUEBA POSTPRUEBA\n",
      "         Media      2.62       4.12\n",
      "Desv. Estándar      0.30       0.45\n",
      "        Mínimo      2.22       3.44\n",
      "        Máximo      3.11       4.78\n",
      "\n",
      "----------------------------------------------------------------------\n",
      "MEJORA OBSERVADA\n",
      "----------------------------------------------------------------------\n",
      "Promedio PREPRUEBA:     2.62 / 5.00\n",
      "Promedio POSTPRUEBA:    4.12 / 5.00\n",
      "Mejora absoluta:        +1.51 puntos\n",
      "Mejora porcentual:      +57.52%\n",
      "======================================================================\n"
     ]
    }
   ],
   "execution_count": 3
  },
  {
   "cell_type": "markdown",
   "id": "viz_section",
   "metadata": {},
   "source": [
    "---\n",
    "## VISUALIZACIONES\n",
    "---"
   ]
  },
  {
   "cell_type": "code",
   "id": "viz_boxplot",
   "metadata": {
    "ExecuteTime": {
     "end_time": "2025-10-23T05:31:07.288632Z",
     "start_time": "2025-10-23T05:31:07.136878Z"
    }
   },
   "source": [
    "# =============================================================================\n",
    "# VISUALIZACIÓN 1: BOXPLOT COMPARATIVO\n",
    "# =============================================================================\n",
    "\n",
    "# Preparar datos\n",
    "data_plot = pd.DataFrame({\n",
    "    'Satisfacción': np.concatenate([preprueba, postprueba]),\n",
    "    'Fase': ['PREPRUEBA']*len(preprueba) + ['POSTPRUEBA']*len(postprueba)\n",
    "})\n",
    "\n",
    "# Crear figura\n",
    "fig, ax = plt.subplots(figsize=(10, 6))\n",
    "\n",
    "# Boxplot\n",
    "bp = sns.boxplot(x='Fase', y='Satisfacción', data=data_plot,\n",
    "                 palette=['#E74C3C', '#2ECC71'], ax=ax, width=0.5)\n",
    "\n",
    "# Puntos individuales\n",
    "sns.stripplot(x='Fase', y='Satisfacción', data=data_plot,\n",
    "              color='black', alpha=0.5, size=6, ax=ax)\n",
    "\n",
    "# Línea de medias\n",
    "medias = [np.mean(preprueba), np.mean(postprueba)]\n",
    "ax.plot([0, 1], medias, 'D-', color='blue', markersize=10,\n",
    "        linewidth=2, label=f'Media', zorder=10)\n",
    "\n",
    "# Personalización\n",
    "ax.set_title('Satisfacción de Responsables Operativos\\nPREPRUEBA vs POSTPRUEBA',\n",
    "             fontsize=14, fontweight='bold', pad=20)\n",
    "ax.set_xlabel('Fase del Estudio', fontsize=12, fontweight='bold')\n",
    "ax.set_ylabel('Satisfacción Promedio (Escala 1-5)', fontsize=12, fontweight='bold')\n",
    "ax.set_ylim(1, 5.5)\n",
    "ax.legend(loc='upper left', fontsize=11)\n",
    "ax.grid(axis='y', alpha=0.3)\n",
    "\n",
    "# Anotaciones\n",
    "ax.text(0, 5.3, f'n={len(preprueba)}\\nμ={np.mean(preprueba):.2f}',\n",
    "        ha='center', fontsize=10,\n",
    "        bbox=dict(boxstyle='round', facecolor='wheat', alpha=0.6))\n",
    "ax.text(1, 5.3, f'n={len(postprueba)}\\nμ={np.mean(postprueba):.2f}',\n",
    "        ha='center', fontsize=10,\n",
    "        bbox=dict(boxstyle='round', facecolor='lightgreen', alpha=0.6))\n",
    "\n",
    "plt.tight_layout()\n",
    "plt.savefig('resultados_satisfaccion_simple/01_boxplot.png', dpi=300, bbox_inches='tight')\n",
    "plt.show()\n",
    "\n",
    "print(\"✓ Boxplot guardado\")"
   ],
   "outputs": [
    {
     "data": {
      "text/plain": [
       "<Figure size 1000x600 with 1 Axes>"
      ],
      "image/png": "[encoded data removed]"
     },
     "metadata": {},
     "output_type": "display_data",
     "jetTransient": {
      "display_id": null
     }
    },
    {
     "name": "stdout",
     "output_type": "stream",
     "text": [
      "✓ Boxplot guardado\n"
     ]
    }
   ],
   "execution_count": 4
  },
  {
   "cell_type": "code",
   "id": "viz_barras",
   "metadata": {
    "ExecuteTime": {
     "end_time": "2025-10-23T05:31:07.408950Z",
     "start_time": "2025-10-23T05:31:07.292866Z"
    }
   },
   "source": [
    "# =============================================================================\n",
    "# VISUALIZACIÓN 2: GRÁFICO DE BARRAS CON ERROR ESTÁNDAR\n",
    "# =============================================================================\n",
    "\n",
    "fig, ax = plt.subplots(figsize=(10, 6))\n",
    "\n",
    "# Datos\n",
    "fases = ['PREPRUEBA', 'POSTPRUEBA']\n",
    "medias = [np.mean(preprueba), np.mean(postprueba)]\n",
    "errores = [\n",
    "    np.std(preprueba, ddof=1) / np.sqrt(len(preprueba)),\n",
    "    np.std(postprueba, ddof=1) / np.sqrt(len(postprueba))\n",
    "]\n",
    "colores = ['#E74C3C', '#2ECC71']\n",
    "\n",
    "# Crear barras\n",
    "barras = ax.bar(fases, medias, yerr=errores, capsize=10,\n",
    "                color=colores, alpha=0.8, edgecolor='black', linewidth=2,\n",
    "                error_kw={'linewidth': 2.5, 'ecolor': 'black'})\n",
    "\n",
    "# Valores sobre las barras\n",
    "for i, (bar, media, error) in enumerate(zip(barras, medias, errores)):\n",
    "    height = bar.get_height()\n",
    "    ax.text(bar.get_x() + bar.get_width()/2., height + error + 0.1,\n",
    "            f'{media:.2f} ± {error:.2f}',\n",
    "            ha='center', va='bottom', fontsize=12, fontweight='bold')\n",
    "\n",
    "# Línea de conexión\n",
    "ax.plot([0, 1], medias, 'b--', linewidth=2, alpha=0.5, marker='o', markersize=10)\n",
    "\n",
    "# Anotación de mejora\n",
    "ax.annotate(f'Mejora: {mejora_porcentual:.1f}%\\n({mejora_absoluta:+.2f} puntos)',\n",
    "            xy=(0.5, np.mean(medias)), fontsize=13, fontweight='bold',\n",
    "            bbox=dict(boxstyle='round,pad=0.5', facecolor='yellow', alpha=0.7),\n",
    "            ha='center')\n",
    "\n",
    "# Personalización\n",
    "ax.set_title('Comparación de Medias: Satisfacción de Responsables Operativos\\n(con Error Estándar)',\n",
    "             fontsize=14, fontweight='bold', pad=20)\n",
    "ax.set_ylabel('Satisfacción Promedio (Escala 1-5)', fontsize=12, fontweight='bold')\n",
    "ax.set_xlabel('Fase del Estudio', fontsize=12, fontweight='bold')\n",
    "ax.set_ylim(0, 5.5)\n",
    "ax.grid(axis='y', alpha=0.3)\n",
    "\n",
    "plt.tight_layout()\n",
    "plt.savefig('resultados_satisfaccion_simple/02_barras_medias.png', dpi=300, bbox_inches='tight')\n",
    "plt.show()\n",
    "\n",
    "print(\"✓ Gráfico de barras guardado\")"
   ],
   "outputs": [
    {
     "data": {
      "text/plain": [
       "<Figure size 1000x600 with 1 Axes>"
      ],
      "image/png": "[encoded data removed]"
     },
     "metadata": {},
     "output_type": "display_data",
     "jetTransient": {
      "display_id": null
     }
    },
    {
     "name": "stdout",
     "output_type": "stream",
     "text": [
      "✓ Gráfico de barras guardado\n"
     ]
    }
   ],
   "execution_count": 5
  },
  {
   "cell_type": "markdown",
   "id": "inference_section",
   "metadata": {},
   "source": [
    "---\n",
    "## ANÁLISIS INFERENCIAL\n",
    "---"
   ]
  },
  {
   "cell_type": "code",
   "id": "wilcoxon",
   "metadata": {
    "ExecuteTime": {
     "end_time": "2025-10-23T05:31:07.421791Z",
     "start_time": "2025-10-23T05:31:07.417769Z"
    }
   },
   "source": [
    "# =============================================================================\n",
    "# PRUEBA DE WILCOXON (Muestras Pareadas)\n",
    "# =============================================================================\n",
    "\n",
    "# Realizar prueba de Wilcoxon\n",
    "w_stat, p_valor = wilcoxon(preprueba, postprueba, alternative='two-sided')\n",
    "\n",
    "# Nivel de significancia\n",
    "alpha = 0.05\n",
    "\n",
    "# Tamaño del efecto (r de Rosenthal)\n",
    "from scipy import stats as sp_stats\n",
    "n = len(preprueba)\n",
    "z_score = sp_stats.norm.ppf(1 - p_valor/2)\n",
    "r_efecto = z_score / np.sqrt(n)\n",
    "\n",
    "def interpretar_r(r):\n",
    "    r_abs = abs(r)\n",
    "    if r_abs < 0.1:\n",
    "        return \"INSIGNIFICANTE (r < 0.1)\"\n",
    "    elif r_abs < 0.3:\n",
    "        return \"PEQUEÑO (0.1 ≤ r < 0.3)\"\n",
    "    elif r_abs < 0.5:\n",
    "        return \"MEDIANO (0.3 ≤ r < 0.5)\"\n",
    "    else:\n",
    "        return \"GRANDE (r ≥ 0.5)\"\n",
    "\n",
    "print(\"\\n\" + \"=\"*70)\n",
    "print(\"PRUEBA DE WILCOXON (No Paramétrica - Apropiada para Likert)\")\n",
    "print(\"=\"*70)\n",
    "print(f\"\\nH0: No hay diferencia en satisfacción (PRE = POST)\")\n",
    "print(f\"H1: Hay diferencia significativa en satisfacción (PRE ≠ POST)\")\n",
    "print(f\"\\nNivel de significancia: α = {alpha}\")\n",
    "print(f\"\\nRESULTADOS:\")\n",
    "print(f\"  • Estadístico W: {w_stat:.4f}\")\n",
    "print(f\"  • p-valor:       {p_valor:.6f}\")\n",
    "print(f\"  • Decisión:      {'RECHAZAR H0' if p_valor < alpha else 'NO RECHAZAR H0'}\")\n",
    "print(f\"\\nTAMAÑO DEL EFECTO:\")\n",
    "print(f\"  • r de Rosenthal: {r_efecto:.4f}\")\n",
    "print(f\"  • Interpretación: {interpretar_r(r_efecto)}\")\n",
    "print(\"\\n\" + \"=\"*70)\n",
    "print(\"CONCLUSIÓN:\")\n",
    "print(\"=\"*70)\n",
    "if p_valor < alpha:\n",
    "    print(f\"✅ Existe evidencia estadísticamente SIGNIFICATIVA (p = {p_valor:.6f} < {alpha})\")\n",
    "    print(f\"   de que la satisfacción AUMENTÓ después de implementar el sistema.\")\n",
    "    print(f\"\\n   Mejora observada: {mejora_absoluta:.2f} puntos ({mejora_porcentual:.2f}%)\")\n",
    "    print(f\"   Tamaño del efecto: {interpretar_r(r_efecto)}\")\n",
    "else:\n",
    "    print(f\"❌ NO existe evidencia estadísticamente significativa (p = {p_valor:.6f} ≥ {alpha})\")\n",
    "    print(f\"   de que el sistema haya aumentado la satisfacción.\")\n",
    "print(\"=\"*70)"
   ],
   "outputs": [
    {
     "name": "stdout",
     "output_type": "stream",
     "text": [
      "\n",
      "======================================================================\n",
      "PRUEBA DE WILCOXON (No Paramétrica - Apropiada para Likert)\n",
      "======================================================================\n",
      "\n",
      "H0: No hay diferencia en satisfacción (PRE = POST)\n",
      "H1: Hay diferencia significativa en satisfacción (PRE ≠ POST)\n",
      "\n",
      "Nivel de significancia: α = 0.05\n",
      "\n",
      "RESULTADOS:\n",
      "  • Estadístico W: 0.0000\n",
      "  • p-valor:       0.007812\n",
      "  • Decisión:      RECHAZAR H0\n",
      "\n",
      "TAMAÑO DEL EFECTO:\n",
      "  • r de Rosenthal: 0.9405\n",
      "  • Interpretación: GRANDE (r ≥ 0.5)\n",
      "\n",
      "======================================================================\n",
      "CONCLUSIÓN:\n",
      "======================================================================\n",
      "✅ Existe evidencia estadísticamente SIGNIFICATIVA (p = 0.007812 < 0.05)\n",
      "   de que la satisfacción AUMENTÓ después de implementar el sistema.\n",
      "\n",
      "   Mejora observada: 1.51 puntos (57.52%)\n",
      "   Tamaño del efecto: GRANDE (r ≥ 0.5)\n",
      "======================================================================\n"
     ]
    }
   ],
   "execution_count": 6
  },
  {
   "cell_type": "markdown",
   "id": "summary_section",
   "metadata": {},
   "source": [
    "---\n",
    "## RESUMEN FINAL\n",
    "---"
   ]
  },
  {
   "cell_type": "code",
   "id": "summary",
   "metadata": {
    "ExecuteTime": {
     "end_time": "2025-10-23T05:31:07.428758Z",
     "start_time": "2025-10-23T05:31:07.425785Z"
    }
   },
   "source": [
    "# =============================================================================\n",
    "# TABLA RESUMEN DE RESULTADOS\n",
    "# =============================================================================\n",
    "\n",
    "resumen_data = {\n",
    "    'Métrica': [\n",
    "        'n (muestra)',\n",
    "        'Media PREPRUEBA',\n",
    "        'Media POSTPRUEBA',\n",
    "        'Mejora absoluta',\n",
    "        'Mejora porcentual',\n",
    "        'Estadístico W',\n",
    "        'p-valor',\n",
    "        'Significancia (α=0.05)',\n",
    "        'Tamaño del efecto (r)',\n",
    "        'Interpretación'\n",
    "    ],\n",
    "    'Valor': [\n",
    "        f\"{n}\",\n",
    "        f\"{np.mean(preprueba):.2f}\",\n",
    "        f\"{np.mean(postprueba):.2f}\",\n",
    "        f\"{mejora_absoluta:+.2f} puntos\",\n",
    "        f\"{mejora_porcentual:+.2f}%\",\n",
    "        f\"{w_stat:.4f}\",\n",
    "        f\"{p_valor:.6f}\",\n",
    "        f\"{'SÍ (p < 0.05)' if p_valor < alpha else 'NO (p ≥ 0.05)'}\",\n",
    "        f\"{r_efecto:.4f}\",\n",
    "        f\"{interpretar_r(r_efecto)}\"\n",
    "    ]\n",
    "}\n",
    "\n",
    "df_resumen = pd.DataFrame(resumen_data)\n",
    "\n",
    "print(\"\\n\" + \"=\"*70)\n",
    "print(\"TABLA RESUMEN DE RESULTADOS\")\n",
    "print(\"=\"*70)\n",
    "print(df_resumen.to_string(index=False))\n",
    "print(\"=\"*70)"
   ],
   "outputs": [
    {
     "name": "stdout",
     "output_type": "stream",
     "text": [
      "\n",
      "======================================================================\n",
      "TABLA RESUMEN DE RESULTADOS\n",
      "======================================================================\n",
      "               Métrica            Valor\n",
      "           n (muestra)                8\n",
      "       Media PREPRUEBA             2.62\n",
      "      Media POSTPRUEBA             4.12\n",
      "       Mejora absoluta     +1.51 puntos\n",
      "     Mejora porcentual          +57.52%\n",
      "         Estadístico W           0.0000\n",
      "               p-valor         0.007812\n",
      "Significancia (α=0.05)    SÍ (p < 0.05)\n",
      " Tamaño del efecto (r)           0.9405\n",
      "        Interpretación GRANDE (r ≥ 0.5)\n",
      "======================================================================\n"
     ]
    }
   ],
   "execution_count": 7
  },
  {
   "cell_type": "code",
   "id": "save_report",
   "metadata": {
    "ExecuteTime": {
     "end_time": "2025-10-23T05:31:07.439183Z",
     "start_time": "2025-10-23T05:31:07.435186Z"
    }
   },
   "source": [
    "# =============================================================================\n",
    "# GUARDAR RESUMEN EN ARCHIVO DE TEXTO\n",
    "# =============================================================================\n",
    "\n",
    "resumen_texto = f\"\"\"\n",
    "{'='*70}\n",
    "    RESUMEN ESTADÍSTICO - SATISFACCIÓN DE RESPONSABLES\n",
    "{'='*70}\n",
    "\n",
    "Fecha del análisis: {datetime.now().strftime('%Y-%m-%d %H:%M:%S')}\n",
    "\n",
    "{'='*70}\n",
    "1. DISEÑO DEL ESTUDIO\n",
    "{'='*70}\n",
    "\n",
    "Tipo:              Cuasi-experimental pre-post\n",
    "Muestra:           n = {n} responsables operativos (censo completo)\n",
    "Escala:            Likert 1-5 (ordinal)\n",
    "Datos:             Pareados (mismas personas antes/después)\n",
    "\n",
    "{'='*70}\n",
    "2. ESTADÍSTICOS DESCRIPTIVOS\n",
    "{'='*70}\n",
    "\n",
    "PREPRUEBA:\n",
    "  Media:           {np.mean(preprueba):.2f} / 5.00\n",
    "  Desv. Estándar:  {np.std(preprueba, ddof=1):.2f}\n",
    "  Mínimo:          {np.min(preprueba):.2f}\n",
    "  Máximo:          {np.max(preprueba):.2f}\n",
    "\n",
    "POSTPRUEBA:\n",
    "  Media:           {np.mean(postprueba):.2f} / 5.00\n",
    "  Desv. Estándar:  {np.std(postprueba, ddof=1):.2f}\n",
    "  Mínimo:          {np.min(postprueba):.2f}\n",
    "  Máximo:          {np.max(postprueba):.2f}\n",
    "\n",
    "MEJORA OBSERVADA:\n",
    "  Absoluta:        {mejora_absoluta:+.2f} puntos\n",
    "  Porcentual:      {mejora_porcentual:+.2f}%\n",
    "\n",
    "{'='*70}\n",
    "3. PRUEBA ESTADÍSTICA (WILCOXON)\n",
    "{'='*70}\n",
    "\n",
    "H0: No hay diferencia en satisfacción (PRE = POST)\n",
    "H1: Hay diferencia significativa (PRE ≠ POST)\n",
    "\n",
    "Estadístico W:     {w_stat:.4f}\n",
    "p-valor:           {p_valor:.6f}\n",
    "Nivel α:           {alpha}\n",
    "Decisión:          {'RECHAZAR H0' if p_valor < alpha else 'NO RECHAZAR H0'}\n",
    "\n",
    "Tamaño del efecto:\n",
    "  r de Rosenthal:  {r_efecto:.4f}\n",
    "  Interpretación:  {interpretar_r(r_efecto)}\n",
    "\n",
    "{'='*70}\n",
    "4. CONCLUSIÓN\n",
    "{'='*70}\n",
    "\n",
    "\"\"\"\n",
    "\n",
    "if p_valor < alpha:\n",
    "    resumen_texto += f\"\"\"\n",
    "✅ Existe evidencia estadísticamente SIGNIFICATIVA (p = {p_valor:.6f} < {alpha})\n",
    "   de que la implementación del sistema AUMENTÓ la satisfacción de los\n",
    "   responsables operativos.\n",
    "\n",
    "   - Mejora promedio: {mejora_absoluta:.2f} puntos (escala 1-5)\n",
    "   - Mejora porcentual: {mejora_porcentual:.2f}%\n",
    "   - Tamaño del efecto: {interpretar_r(r_efecto)}\n",
    "\n",
    "   Estos resultados VALIDAN LA HIPÓTESIS DE INVESTIGACIÓN.\n",
    "\"\"\"\n",
    "else:\n",
    "    resumen_texto += f\"\"\"\n",
    "❌ NO existe evidencia estadísticamente significativa (p = {p_valor:.6f} ≥ {alpha})\n",
    "   de que el sistema haya aumentado la satisfacción.\n",
    "\n",
    "   Se recomienda:\n",
    "   - Aumentar tamaño muestral si es posible\n",
    "   - Realizar seguimiento más prolongado\n",
    "\"\"\"\n",
    "\n",
    "resumen_texto += f\"\"\"\n",
    "{'='*70}\n",
    "5. ARCHIVOS GENERADOS\n",
    "{'='*70}\n",
    "\n",
    "Gráficos (carpeta resultados_satisfaccion_simple/):\n",
    "  1. 01_boxplot.png          - Boxplot comparativo\n",
    "  2. 02_barras_medias.png    - Barras con error estándar\n",
    "\n",
    "Reporte:\n",
    "  - resumen_satisfaccion.txt - Este archivo\n",
    "\n",
    "{'='*70}\n",
    "FIN DEL REPORTE\n",
    "{'='*70}\n",
    "\"\"\"\n",
    "\n",
    "# Guardar archivo\n",
    "with open('resultados_satisfaccion_simple/resumen_satisfaccion.txt', 'w', encoding='utf-8') as f:\n",
    "    f.write(resumen_texto)\n",
    "\n",
    "print(\"\\n\" + \"=\"*70)\n",
    "print(\"✅ ANÁLISIS COMPLETADO\")\n",
    "print(\"=\"*70)\n",
    "print(f\"\\n📁 Archivos generados:\")\n",
    "print(f\"   ✓ 01_boxplot.png\")\n",
    "print(f\"   ✓ 02_barras_medias.png\")\n",
    "print(f\"   ✓ resumen_satisfaccion.txt\")\n",
    "print(f\"\\n📊 Resultado:\")\n",
    "print(f\"   • Mejora: {mejora_porcentual:+.2f}% ({mejora_absoluta:+.2f} puntos)\")\n",
    "print(f\"   • p-valor: {p_valor:.6f}\")\n",
    "print(f\"   • Significancia: {'SÍ (p < 0.05)' if p_valor < alpha else 'NO (p ≥ 0.05)'}\")\n",
    "print(f\"   • Tamaño efecto: {interpretar_r(r_efecto)}\")\n",
    "print(\"\\n\" + \"=\"*70)"
   ],
   "outputs": [
    {
     "name": "stdout",
     "output_type": "stream",
     "text": [
      "\n",
      "======================================================================\n",
      "✅ ANÁLISIS COMPLETADO\n",
      "======================================================================\n",
      "\n",
      "📁 Archivos generados:\n",
      "   ✓ 01_boxplot.png\n",
      "   ✓ 02_barras_medias.png\n",
      "   ✓ resumen_satisfaccion.txt\n",
      "\n",
      "📊 Resultado:\n",
      "   • Mejora: +57.52% (+1.51 puntos)\n",
      "   • p-valor: 0.007812\n",
      "   • Significancia: SÍ (p < 0.05)\n",
      "   • Tamaño efecto: GRANDE (r ≥ 0.5)\n",
      "\n",
      "======================================================================\n"
     ]
    }
   ],
   "execution_count": 8
  },
  {
   "cell_type": "markdown",
   "id": "instrucciones",
   "metadata": {},
   "source": [
    "---\n",
    "\n",
    "## 📌 Instrucciones de Uso\n",
    "\n",
    "**Ejecutar:**\n",
    "1. `Run All` o `Shift+Enter` en cada celda\n",
    "2. Resultados se guardan en `resultados_satisfaccion_simple/`\n",
    "\n",
    "**Análisis incluye:**\n",
    "- ✅ Estadísticos descriptivos (media, DE, min, max)\n",
    "- ✅ 2 visualizaciones profesionales (boxplot + barras)\n",
    "- ✅ Prueba de Wilcoxon (apropiada para Likert)\n",
    "- ✅ Tamaño del efecto (r de Rosenthal)\n",
    "- ✅ Tabla resumen + archivo de texto\n",
    "\n",
    "**Escala:** Likert 1-5 (ordinal)  \n",
    "**α:** 0.05  \n",
    "**n:** 8 responsables (censo completo)\n",
    "\n",
    "---"
   ]
  }
 ],
 "metadata": {
  "kernelspec": {
   "display_name": "Python 3",
   "language": "python",
   "name": "python3"
  },
  "language_info": {
   "codemirror_mode": {
    "name": "ipython",
    "version": 3
   },
   "file_extension": ".py",
   "mimetype": "text/x-python",
   "name": "python",
   "nbconvert_exporter": "python",
   "pygments_lexer": "ipython3",
   "version": "3.9.0"
  }
 },
 "nbformat": 4,
 "nbformat_minor": 5
}
